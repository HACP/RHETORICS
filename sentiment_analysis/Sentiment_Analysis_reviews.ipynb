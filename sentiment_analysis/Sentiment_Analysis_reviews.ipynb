{
 "cells": [
  {
   "cell_type": "code",
   "execution_count": 1,
   "metadata": {
    "collapsed": true
   },
   "outputs": [],
   "source": [
    "import pandas as pd\n",
    "import numpy as np\n",
    "from sklearn.utils import shuffle\n",
    "from sklearn.feature_extraction.text import TfidfVectorizer\n",
    "from sklearn import svm\n",
    "from sklearn.metrics import classification_report\n",
    "from sklearn.metrics import accuracy_score"
   ]
  },
  {
   "cell_type": "code",
   "execution_count": 2,
   "metadata": {
    "collapsed": true
   },
   "outputs": [],
   "source": [
    "import glob"
   ]
  },
  {
   "cell_type": "markdown",
   "metadata": {},
   "source": [
    "Getting the data"
   ]
  },
  {
   "cell_type": "code",
   "execution_count": 3,
   "metadata": {
    "collapsed": true
   },
   "outputs": [],
   "source": [
    "pos_fl = glob.glob('review_polarity/txt_sentoken/pos/*txt')\n",
    "neg_fl = glob.glob('review_polarity/txt_sentoken/neg/*txt')"
   ]
  },
  {
   "cell_type": "code",
   "execution_count": 4,
   "metadata": {
    "collapsed": false
   },
   "outputs": [
    {
     "name": "stdout",
     "output_type": "stream",
     "text": [
      "There are 1000 files with positive examples and 1000 files with negative examples\n"
     ]
    }
   ],
   "source": [
    "print 'There are ' + str(len(pos_fl)) + ' files with positive examples and ' + str(len(neg_fl)) + ' files with negative examples'"
   ]
  },
  {
   "cell_type": "markdown",
   "metadata": {},
   "source": [
    "Splitting data set in train, validation and test (80,10,10)"
   ]
  },
  {
   "cell_type": "code",
   "execution_count": 5,
   "metadata": {
    "collapsed": true
   },
   "outputs": [],
   "source": [
    "np.random.shuffle(pos_fl)\n",
    "np.random.shuffle(neg_fl)"
   ]
  },
  {
   "cell_type": "code",
   "execution_count": 6,
   "metadata": {
    "collapsed": false
   },
   "outputs": [],
   "source": [
    "test_pos_files = pos_fl[:100]\n",
    "test_neg_files = neg_fl[:100]\n",
    "val_pos_files = pos_fl[100:200]\n",
    "val_neg_files = neg_fl[100:200]\n",
    "train_pos_files = pos_fl[200:300]\n",
    "train_neg_files = neg_fl[200:300]"
   ]
  },
  {
   "cell_type": "code",
   "execution_count": 7,
   "metadata": {
    "collapsed": false
   },
   "outputs": [],
   "source": [
    "X_test = []\n",
    "y_test = []\n",
    "for file_name in test_pos_files:\n",
    "    f = open(file_name)\n",
    "    data = [line[:-1] for line in f]\n",
    "    labels = [1 for i in range(len(data))]\n",
    "    X_test = X_test + data\n",
    "    y_test = y_test + labels\n",
    "    f.close()\n",
    "for file_name in test_neg_files:\n",
    "    f = open(file_name)\n",
    "    data = [line[:-1] for line in f]\n",
    "    labels = [-1 for i in range(len(data))]\n",
    "    X_test = X_test + data\n",
    "    y_test = y_test + labels\n",
    "    f.close()\n",
    "\n",
    "X_test, y_test = shuffle(np.array(X_test), np.array(y_test), random_state=2016)"
   ]
  },
  {
   "cell_type": "code",
   "execution_count": 8,
   "metadata": {
    "collapsed": false
   },
   "outputs": [],
   "source": [
    "X_val = []\n",
    "y_val = []\n",
    "for file_name in val_pos_files:\n",
    "    f = open(file_name)\n",
    "    data = [line[:-1] for line in f]\n",
    "    labels = [1 for i in range(len(data))]\n",
    "    X_val = X_val + data\n",
    "    y_val = y_val + labels\n",
    "    f.close()\n",
    "for file_name in val_neg_files:\n",
    "    f = open(file_name)\n",
    "    data = [line[:-1] for line in f]\n",
    "    labels = [-1 for i in range(len(data))]\n",
    "    X_val = X_val + data\n",
    "    y_val = y_val + labels\n",
    "    f.close()\n",
    "X_val, y_val = shuffle(np.array(X_val), np.array(y_val), random_state=2016)"
   ]
  },
  {
   "cell_type": "code",
   "execution_count": 9,
   "metadata": {
    "collapsed": true
   },
   "outputs": [],
   "source": [
    "X_train = []\n",
    "y_train = []\n",
    "for file_name in train_pos_files:\n",
    "    f = open(file_name)\n",
    "    data = [line[:-1] for line in f]\n",
    "    labels = [1 for i in range(len(data))]\n",
    "    X_train = X_train + data\n",
    "    y_train = y_train + labels\n",
    "    f.close()\n",
    "for file_name in train_neg_files:\n",
    "    f = open(file_name)\n",
    "    data = [line[:-1] for line in f]\n",
    "    labels = [-1 for i in range(len(data))]\n",
    "    X_train = X_train + data\n",
    "    y_train = y_train + labels\n",
    "    f.close()\n",
    "X_train, y_train = shuffle(np.array(X_train), np.array(y_train), random_state=2016)"
   ]
  },
  {
   "cell_type": "markdown",
   "metadata": {},
   "source": [
    "Transforming text to vectors"
   ]
  },
  {
   "cell_type": "code",
   "execution_count": 10,
   "metadata": {
    "collapsed": true
   },
   "outputs": [],
   "source": [
    "vectorizer = TfidfVectorizer(min_df=5,\n",
    "                                 max_df = 0.8,\n",
    "                                 sublinear_tf=True,\n",
    "                                 use_idf=True)"
   ]
  },
  {
   "cell_type": "code",
   "execution_count": 11,
   "metadata": {
    "collapsed": true
   },
   "outputs": [],
   "source": [
    "V_train = vectorizer.fit_transform(X_train)\n",
    "V_val = vectorizer.transform(X_val)\n",
    "V_test = vectorizer.transform(X_test)"
   ]
  },
  {
   "cell_type": "markdown",
   "metadata": {},
   "source": [
    "Exploring different configurations with validation and training"
   ]
  },
  {
   "cell_type": "markdown",
   "metadata": {},
   "source": [
    "Starting with a rbf (radial basis function) kernel: gaussian on a absolute value of vector difference."
   ]
  },
  {
   "cell_type": "code",
   "execution_count": 34,
   "metadata": {
    "collapsed": false
   },
   "outputs": [
    {
     "data": {
      "text/plain": [
       "SVC(C=1.0, cache_size=200, class_weight=None, coef0=0.0, degree=3, gamma=0.0,\n",
       "  kernel='rbf', max_iter=-1, probability=False, random_state=None,\n",
       "  shrinking=True, tol=0.001, verbose=False)"
      ]
     },
     "execution_count": 34,
     "metadata": {},
     "output_type": "execute_result"
    }
   ],
   "source": [
    "clf_rbf = svm.SVC()\n",
    "clf_rbf.fit(V_train, y_train)"
   ]
  },
  {
   "cell_type": "code",
   "execution_count": 35,
   "metadata": {
    "collapsed": true
   },
   "outputs": [],
   "source": [
    "p_rbf_val =clf_rbf.predict(V_val)"
   ]
  },
  {
   "cell_type": "code",
   "execution_count": 36,
   "metadata": {
    "collapsed": false
   },
   "outputs": [
    {
     "name": "stdout",
     "output_type": "stream",
     "text": [
      "             precision    recall  f1-score   support\n",
      "\n",
      "         -1       0.00      0.00      0.00      3020\n",
      "          1       0.53      1.00      0.69      3433\n",
      "\n",
      "avg / total       0.28      0.53      0.37      6453\n",
      "\n"
     ]
    }
   ],
   "source": [
    "print classification_report(y_val, p_rbf_val)"
   ]
  },
  {
   "cell_type": "markdown",
   "metadata": {},
   "source": [
    "Pretty bad! Predicting all negatives"
   ]
  },
  {
   "cell_type": "markdown",
   "metadata": {},
   "source": [
    "Next, linear kernel"
   ]
  },
  {
   "cell_type": "code",
   "execution_count": 38,
   "metadata": {
    "collapsed": false
   },
   "outputs": [
    {
     "data": {
      "text/plain": [
       "SVC(C=1.0, cache_size=200, class_weight=None, coef0=0.0, degree=3, gamma=0.0,\n",
       "  kernel='linear', max_iter=-1, probability=False, random_state=None,\n",
       "  shrinking=True, tol=0.001, verbose=False)"
      ]
     },
     "execution_count": 38,
     "metadata": {},
     "output_type": "execute_result"
    }
   ],
   "source": [
    "clf_linear = svm.SVC(kernel='linear')\n",
    "clf_linear.fit(V_train, y_train)"
   ]
  },
  {
   "cell_type": "code",
   "execution_count": 39,
   "metadata": {
    "collapsed": true
   },
   "outputs": [],
   "source": [
    "p_linear_val =clf_linear.predict(V_val)"
   ]
  },
  {
   "cell_type": "code",
   "execution_count": 40,
   "metadata": {
    "collapsed": false
   },
   "outputs": [
    {
     "name": "stdout",
     "output_type": "stream",
     "text": [
      "             precision    recall  f1-score   support\n",
      "\n",
      "         -1       0.57      0.59      0.58      3020\n",
      "          1       0.62      0.60      0.61      3433\n",
      "\n",
      "avg / total       0.60      0.60      0.60      6453\n",
      "\n"
     ]
    }
   ],
   "source": [
    "print classification_report(y_val, p_linear_val)"
   ]
  },
  {
   "cell_type": "markdown",
   "metadata": {},
   "source": [
    "Better!"
   ]
  },
  {
   "cell_type": "markdown",
   "metadata": {},
   "source": [
    "Once we are satisfied with the training, we predict and measure accuray on the test set"
   ]
  },
  {
   "cell_type": "code",
   "execution_count": 41,
   "metadata": {
    "collapsed": false
   },
   "outputs": [],
   "source": [
    "p_test =clf.predict(V_test)"
   ]
  },
  {
   "cell_type": "code",
   "execution_count": 42,
   "metadata": {
    "collapsed": false
   },
   "outputs": [
    {
     "name": "stdout",
     "output_type": "stream",
     "text": [
      "             precision    recall  f1-score   support\n",
      "\n",
      "         -1       0.58      0.57      0.58      3278\n",
      "          1       0.57      0.58      0.58      3193\n",
      "\n",
      "avg / total       0.58      0.58      0.58      6471\n",
      "\n"
     ]
    }
   ],
   "source": [
    "print classification_report(y_test, p_test)"
   ]
  },
  {
   "cell_type": "markdown",
   "metadata": {},
   "source": [
    "Similar performance as before"
   ]
  },
  {
   "cell_type": "code",
   "execution_count": null,
   "metadata": {
    "collapsed": true
   },
   "outputs": [],
   "source": []
  }
 ],
 "metadata": {
  "kernelspec": {
   "display_name": "Python 2",
   "language": "python",
   "name": "python2"
  },
  "language_info": {
   "codemirror_mode": {
    "name": "ipython",
    "version": 2
   },
   "file_extension": ".py",
   "mimetype": "text/x-python",
   "name": "python",
   "nbconvert_exporter": "python",
   "pygments_lexer": "ipython2",
   "version": "2.7.11"
  }
 },
 "nbformat": 4,
 "nbformat_minor": 0
}
